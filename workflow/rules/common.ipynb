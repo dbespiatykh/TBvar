{
 "cells": [
  {
   "cell_type": "code",
   "execution_count": 3,
   "metadata": {},
   "outputs": [],
   "source": [
    "import pandas as pd\n",
    "import os\n",
    "\n",
    "cwd = os.getcwd() + '/'"
   ]
  },
  {
   "cell_type": "code",
   "execution_count": 18,
   "metadata": {},
   "outputs": [],
   "source": [
    "df = pd.read_csv(cwd + \"samples.tsv\", dtype=str, sep=\"\\t\").set_index(\"Run_accession\", drop=False)"
   ]
  },
  {
   "cell_type": "code",
   "execution_count": 19,
   "metadata": {},
   "outputs": [
    {
     "data": {
      "text/html": [
       "<div>\n",
       "<style scoped>\n",
       "    .dataframe tbody tr th:only-of-type {\n",
       "        vertical-align: middle;\n",
       "    }\n",
       "\n",
       "    .dataframe tbody tr th {\n",
       "        vertical-align: top;\n",
       "    }\n",
       "\n",
       "    .dataframe thead th {\n",
       "        text-align: right;\n",
       "    }\n",
       "</style>\n",
       "<table border=\"1\" class=\"dataframe\">\n",
       "  <thead>\n",
       "    <tr style=\"text-align: right;\">\n",
       "      <th></th>\n",
       "      <th>Run_accession</th>\n",
       "      <th>R1</th>\n",
       "      <th>R2</th>\n",
       "    </tr>\n",
       "    <tr>\n",
       "      <th>Run_accession</th>\n",
       "      <th></th>\n",
       "      <th></th>\n",
       "      <th></th>\n",
       "    </tr>\n",
       "  </thead>\n",
       "  <tbody>\n",
       "    <tr>\n",
       "      <th>SRR2024996</th>\n",
       "      <td>SRR2024996</td>\n",
       "      <td>/Volumes/Extreme_SSD/Work/Mycobactria/TBvar/FA...</td>\n",
       "      <td>/Volumes/Extreme_SSD/Work/Mycobactria/TBvar/FA...</td>\n",
       "    </tr>\n",
       "    <tr>\n",
       "      <th>SRR2024925</th>\n",
       "      <td>SRR2024925</td>\n",
       "      <td>/Volumes/Extreme_SSD/Work/Mycobactria/TBvar/FA...</td>\n",
       "      <td>/Volumes/Extreme_SSD/Work/Mycobactria/TBvar/FA...</td>\n",
       "    </tr>\n",
       "  </tbody>\n",
       "</table>\n",
       "</div>"
      ],
      "text/plain": [
       "              Run_accession  \\\n",
       "Run_accession                 \n",
       "SRR2024996       SRR2024996   \n",
       "SRR2024925       SRR2024925   \n",
       "\n",
       "                                                              R1  \\\n",
       "Run_accession                                                      \n",
       "SRR2024996     /Volumes/Extreme_SSD/Work/Mycobactria/TBvar/FA...   \n",
       "SRR2024925     /Volumes/Extreme_SSD/Work/Mycobactria/TBvar/FA...   \n",
       "\n",
       "                                                              R2  \n",
       "Run_accession                                                     \n",
       "SRR2024996     /Volumes/Extreme_SSD/Work/Mycobactria/TBvar/FA...  \n",
       "SRR2024925     /Volumes/Extreme_SSD/Work/Mycobactria/TBvar/FA...  "
      ]
     },
     "execution_count": 19,
     "metadata": {},
     "output_type": "execute_result"
    }
   ],
   "source": [
    "df"
   ]
  },
  {
   "cell_type": "code",
   "execution_count": 24,
   "metadata": {},
   "outputs": [],
   "source": [
    "sample = df.index.to_list()[0]"
   ]
  },
  {
   "cell_type": "code",
   "execution_count": 25,
   "metadata": {},
   "outputs": [
    {
     "data": {
      "text/plain": [
       "'SRR2024996'"
      ]
     },
     "execution_count": 25,
     "metadata": {},
     "output_type": "execute_result"
    }
   ],
   "source": [
    "sample"
   ]
  },
  {
   "cell_type": "code",
   "execution_count": 26,
   "metadata": {},
   "outputs": [],
   "source": [
    "def get_fastq(wildcard):\n",
    "    return df.loc[wildcard, [\"R1\", \"R2\"]].dropna().to_dict()"
   ]
  },
  {
   "cell_type": "code",
   "execution_count": 27,
   "metadata": {},
   "outputs": [
    {
     "data": {
      "text/plain": [
       "'/Volumes/Extreme_SSD/Work/Mycobactria/TBvar/FASTQ/SRR2024996_1.fastq.gz'"
      ]
     },
     "execution_count": 27,
     "metadata": {},
     "output_type": "execute_result"
    }
   ],
   "source": [
    "get_fastq(sample)[\"R1\"]"
   ]
  },
  {
   "cell_type": "code",
   "execution_count": null,
   "metadata": {},
   "outputs": [],
   "source": []
  }
 ],
 "metadata": {
  "kernelspec": {
   "display_name": "Python 3.9.10 ('base')",
   "language": "python",
   "name": "python3"
  },
  "language_info": {
   "codemirror_mode": {
    "name": "ipython",
    "version": 3
   },
   "file_extension": ".py",
   "mimetype": "text/x-python",
   "name": "python",
   "nbconvert_exporter": "python",
   "pygments_lexer": "ipython3",
   "version": "3.9.10"
  },
  "orig_nbformat": 4,
  "vscode": {
   "interpreter": {
    "hash": "9297fa498484a682e6098cdbeb12c526e064707150464f8d71d8b632de69f077"
   }
  }
 },
 "nbformat": 4,
 "nbformat_minor": 2
}
